{
 "cells": [
  {
   "cell_type": "markdown",
   "metadata": {},
   "source": [
    "* 常见数据库与表格"
   ]
  },
  {
   "cell_type": "code",
   "execution_count": 47,
   "metadata": {
    "collapsed": false
   },
   "outputs": [],
   "source": [
    "# -*- coding: utf-8 -*-\n",
    "\n",
    "from flask import Flask\n",
    "from flask_sqlalchemy import SQLAlchemy\n",
    "import os\n",
    "\n",
    "app = Flask(__name__)\n",
    "basedir = os.path.abspath(os.path.dirname('__file__'))#不在 shell 中时把‘’删除\n",
    "app.config['SQLALCHEMY_DATABASE_URI'] = 'sqlite:////' + os.path.join(basedir, 'data.sqlite')\n",
    "app.config['SQLALCHEMY_COMMIT_ON_TEARDOWN'] = True\n",
    "app.config['SQLALCHEMY_TRACK_MODIFICATIONS'] = False\n",
    "db = SQLAlchemy(app)\n",
    "\n",
    "class MpsData(db.Model):\n",
    "    \"\"\"\n",
    "    创建表格，如表格已创建则读取表格为 MpsData\n",
    "    \n",
    "    第一列 mp：公众号名称\n",
    "    第二列 user：添加发送信息的用户（写入 str(msg.receiver)），以防不同用户间产生冲突\n",
    "    第三列 img：照片文件名\n",
    "    \"\"\"\n",
    "    __tablename__ = 'weather_data'\n",
    "    id = db.Column(db.Integer, primary_key = True)\n",
    "    mp = db.Column(db.String, index=True)\n",
    "    user = db.Column(db.String)\n",
    "    img = db.Column(db.String)\n",
    "\n",
    "    def __init__(self, mp, user, img):\n",
    "        self.mp = mp\n",
    "        self.user = user\n",
    "        self.img = img\n",
    "\n",
    "    def __repr__(self):\n",
    "        return '<MpsData %r>' % self.mp\n",
    "\n",
    "class DataOperating:\n",
    "    \"\"\"\n",
    "    数据操作，修改表格数据\n",
    "    \n",
    "    引入：from kidwechat_sql import DataOperating\n",
    "    \n",
    "    add_data：添加数据（添加数据前需先 confirm_mp，若反馈 != None，添加才会成功）\n",
    "    search_img：搜索二维码图片，反馈文件名\n",
    "    confirm_mp：确定用户的公众号是否已存储数据，若无则反馈 None\n",
    "    change_img：修改二维码图片名称\n",
    "    \"\"\"    \n",
    "    def add_data(mp, user, img):\n",
    "        add_mp = MpsData(mp, user, img)\n",
    "        db.session.add(add_mp)\n",
    "        db.session.commit()\n",
    "    \n",
    "    def search_img(mp, user):\n",
    "        data = MpsData.query.filter_by(mp=mp, user=user).first()\n",
    "        return data.img \n",
    "    \n",
    "    def confirm_mp(mp, user):\n",
    "        data = MpsData.query.filter_by(mp=mp, user=user).first()        \n",
    "        return data #若 公众号＋user 不存在数据库中，则返回 None\n",
    "    \n",
    "    def change_img(mp, user, img):#此处 img 为更改后的图片文件名\n",
    "        data = MpsData.query.filter_by(mp=mp, user=user).first()\n",
    "        del_file = data.img\n",
    "        data.img = img \n",
    "        db.session.add(data)\n",
    "        db.session.commit()\n",
    "        os.remove(del_file)\n",
    "              \n",
    "db.create_all()#创建链接：表格与 MpsData "
   ]
  },
  {
   "cell_type": "markdown",
   "metadata": {},
   "source": [
    "* 添加数据（添加数据前需先 confirm_mp，若反馈 != None，添加才会成功）"
   ]
  },
  {
   "cell_type": "code",
   "execution_count": 48,
   "metadata": {
    "collapsed": false
   },
   "outputs": [],
   "source": [
    "DataOperating.add_data('knowyourself', 'ollie', '567.png')"
   ]
  },
  {
   "cell_type": "markdown",
   "metadata": {},
   "source": [
    "* 搜索二维码图片，反馈文件名"
   ]
  },
  {
   "cell_type": "code",
   "execution_count": 49,
   "metadata": {
    "collapsed": false
   },
   "outputs": [
    {
     "data": {
      "text/plain": [
       "'122.png'"
      ]
     },
     "execution_count": 49,
     "metadata": {},
     "output_type": "execute_result"
    }
   ],
   "source": [
    "DataOperating.search_img('开智', '欣')"
   ]
  },
  {
   "cell_type": "code",
   "execution_count": 50,
   "metadata": {
    "collapsed": false
   },
   "outputs": [
    {
     "data": {
      "text/plain": [
       "'aaaaa.png'"
      ]
     },
     "execution_count": 50,
     "metadata": {},
     "output_type": "execute_result"
    }
   ],
   "source": [
    "DataOperating.search_img('knowyourself', 'ollie')"
   ]
  },
  {
   "cell_type": "markdown",
   "metadata": {},
   "source": [
    "* 判断数据是否存在"
   ]
  },
  {
   "cell_type": "code",
   "execution_count": 51,
   "metadata": {
    "collapsed": false
   },
   "outputs": [
    {
     "data": {
      "text/plain": [
       "True"
      ]
     },
     "execution_count": 51,
     "metadata": {},
     "output_type": "execute_result"
    }
   ],
   "source": [
    "DataOperating.confirm_mp('开智', '鸡腿儿') == None"
   ]
  },
  {
   "cell_type": "markdown",
   "metadata": {},
   "source": [
    "* 更改二维码文件名，并删除原有二维码图片"
   ]
  },
  {
   "cell_type": "code",
   "execution_count": 52,
   "metadata": {
    "collapsed": false
   },
   "outputs": [],
   "source": [
    "DataOperating.change_img('knowyourself', 'ollie', 'bbb.png')#aaaaa.png 文件被删除"
   ]
  },
  {
   "cell_type": "code",
   "execution_count": 53,
   "metadata": {
    "collapsed": false
   },
   "outputs": [
    {
     "data": {
      "text/plain": [
       "'bbb.png'"
      ]
     },
     "execution_count": 53,
     "metadata": {},
     "output_type": "execute_result"
    }
   ],
   "source": [
    "DataOperating.search_img('knowyourself', 'ollie')"
   ]
  },
  {
   "cell_type": "code",
   "execution_count": null,
   "metadata": {
    "collapsed": true
   },
   "outputs": [],
   "source": []
  },
  {
   "cell_type": "code",
   "execution_count": null,
   "metadata": {
    "collapsed": true
   },
   "outputs": [],
   "source": []
  },
  {
   "cell_type": "code",
   "execution_count": 36,
   "metadata": {
    "collapsed": true
   },
   "outputs": [],
   "source": [
    "#删除文件\n",
    "i = 'QQ20170317-2@2x.png'\n",
    "os.remove(i)"
   ]
  },
  {
   "cell_type": "code",
   "execution_count": null,
   "metadata": {
    "collapsed": true
   },
   "outputs": [],
   "source": []
  }
 ],
 "metadata": {
  "anaconda-cloud": {},
  "kernelspec": {
   "display_name": "Python [conda root]",
   "language": "python",
   "name": "conda-root-py"
  },
  "language_info": {
   "codemirror_mode": {
    "name": "ipython",
    "version": 3
   },
   "file_extension": ".py",
   "mimetype": "text/x-python",
   "name": "python",
   "nbconvert_exporter": "python",
   "pygments_lexer": "ipython3",
   "version": "3.5.2"
  }
 },
 "nbformat": 4,
 "nbformat_minor": 1
}
