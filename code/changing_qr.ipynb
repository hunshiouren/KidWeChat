{
 "cells": [
  {
   "cell_type": "markdown",
   "metadata": {},
   "source": [
    "如何获得二维码：http://open.weixin.qq.com/qr/code/?username=公众号的微信号"
   ]
  },
  {
   "cell_type": "code",
   "execution_count": 1,
   "metadata": {
    "collapsed": true
   },
   "outputs": [],
   "source": [
    "# -*- coding: utf-8 -*-\n",
    "\n",
    "from flask import Flask\n",
    "from flask_sqlalchemy import SQLAlchemy\n",
    "import os\n",
    "\n",
    "app = Flask(__name__)\n",
    "basedir = os.path.abspath(os.path.dirname('__file__'))#不在 shell 中时把‘’删除\n",
    "app.config['SQLALCHEMY_DATABASE_URI'] = 'sqlite:////' + os.path.join(basedir, 'data.sqlite')\n",
    "app.config['SQLALCHEMY_COMMIT_ON_TEARDOWN'] = True\n",
    "app.config['SQLALCHEMY_TRACK_MODIFICATIONS'] = False\n",
    "db = SQLAlchemy(app)\n",
    "\n",
    "class MpsData(db.Model):\n",
    "    \"\"\"\n",
    "    创建表格，如表格已创建则读取表格为 MpsData\n",
    "    第一列 mp：公众号名称\n",
    "    第二列 user：添加发送信息的用户（写入 str(msg.chat.name），以防不同用户间产生冲突\n",
    "    第三列 qr_code：二维码图片文件名（修改，因为和其它文件变量名重复）\n",
    "    \"\"\"\n",
    "    __tablename__ = 'weather_data'\n",
    "    id = db.Column(db.Integer, primary_key = True)\n",
    "    mp = db.Column(db.String, index=True)\n",
    "    user = db.Column(db.String)\n",
    "    qr_code = db.Column(db.String)\n",
    "\n",
    "    def __init__(self, mp, user, qr_code):\n",
    "        self.mp = mp\n",
    "        self.user = user\n",
    "        self.qr_code = qr_code\n",
    "\n",
    "    def __repr__(self):\n",
    "        return '<MpsData %r>' % self.mp\n",
    "\n",
    "class DataOperating:\n",
    "    \"\"\"\n",
    "    数据操作，修改表格数据\n",
    "    引入：from kidwechat_sql import DataOperating\n",
    "    add_data：添加数据（添加数据前需先 confirm_mp，若反馈 != None，添加才会成功）\n",
    "    search_img：搜索二维码图片，反馈文件名\n",
    "    confirm_mp：确定用户的公众号是否已存储数据，若无则反馈 None\n",
    "    change_img：修改二维码图片名称\n",
    "    \"\"\"\n",
    "    def add_data(mp, user):      #鸡腿儿：是否需要img？ Ollie: 不需要，改成图片文件名\n",
    "        add_mp = MpsData(mp, user, '12_Mozart.jpg') # 添加 莫扎特图片\n",
    "        db.session.add(add_mp)\n",
    "        db.session.commit()\n",
    "\n",
    "    def search_img(mp, user):   #鸡腿儿：此函数用来返回图片。\n",
    "        data = MpsData.query.filter_by(mp=mp, user=user).first()\n",
    "        return data.qr_code\n",
    "\n",
    "    def confirm_mp(mp, user):\n",
    "        data = MpsData.query.filter_by(mp=mp, user=user).first()\n",
    "        return data #若 公众号＋user 不存在数据库中，则返回 None\n",
    "\n",
    "    def change_img(mp, user, qr_code):#此处 img 为更改后的图片文件名   #鸡腿儿：此函数目前只是摆摆样子，证明我们有此功能：）\n",
    "        data = MpsData.query.filter_by(mp=mp, user=user).first()\n",
    "        #del_file = data.qr_code\n",
    "        data.qr_code = qr_code\n",
    "        db.session.add(data)\n",
    "        db.session.commit()\n",
    "        #os.remove(del_file)\n",
    "\n",
    "db.create_all()#创建链接：表格与 MpsData"
   ]
  },
  {
   "cell_type": "code",
   "execution_count": 2,
   "metadata": {
    "collapsed": false
   },
   "outputs": [
    {
     "data": {
      "text/plain": [
       "<MpsData '给孩子'>"
      ]
     },
     "execution_count": 2,
     "metadata": {},
     "output_type": "execute_result"
    }
   ],
   "source": [
    "DataOperating.confirm_mp('给孩子', 'Ramsey')"
   ]
  },
  {
   "cell_type": "code",
   "execution_count": 3,
   "metadata": {
    "collapsed": true
   },
   "outputs": [],
   "source": [
    "DataOperating.change_img('给孩子', 'Ramsey', 'qrcode_tochildren_1.jpg')"
   ]
  },
  {
   "cell_type": "code",
   "execution_count": 4,
   "metadata": {
    "collapsed": false
   },
   "outputs": [
    {
     "data": {
      "text/plain": [
       "'qrcode_tochildren_1.jpg'"
      ]
     },
     "execution_count": 4,
     "metadata": {},
     "output_type": "execute_result"
    }
   ],
   "source": [
    "DataOperating.search_img('给孩子', 'Ramsey')"
   ]
  },
  {
   "cell_type": "code",
   "execution_count": null,
   "metadata": {
    "collapsed": true
   },
   "outputs": [],
   "source": []
  }
 ],
 "metadata": {
  "anaconda-cloud": {},
  "kernelspec": {
   "display_name": "Python [conda root]",
   "language": "python",
   "name": "conda-root-py"
  },
  "language_info": {
   "codemirror_mode": {
    "name": "ipython",
    "version": 3
   },
   "file_extension": ".py",
   "mimetype": "text/x-python",
   "name": "python",
   "nbconvert_exporter": "python",
   "pygments_lexer": "ipython3",
   "version": "3.5.2"
  }
 },
 "nbformat": 4,
 "nbformat_minor": 1
}
